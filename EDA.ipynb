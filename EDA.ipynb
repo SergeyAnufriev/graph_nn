{
 "cells": [
  {
   "cell_type": "code",
   "execution_count": 1,
   "id": "7d732f26",
   "metadata": {},
   "outputs": [],
   "source": [
    "from rdkit import RDConfig\n",
    "from rdkit.Chem import PandasTools\n",
    "import pandas as pd\n",
    "import os\n",
    "from matplotlib import pyplot as plt\n",
    "from rdkit import Chem"
   ]
  },
  {
   "cell_type": "code",
   "execution_count": 2,
   "id": "344f517f",
   "metadata": {},
   "outputs": [],
   "source": [
    "data_dir = r'C:\\Users\\zcemg08\\PycharmProjects\\graph_nn\\data'\n",
    "\n",
    "\n",
    "amide_train     = PandasTools.LoadSDF(os.path.join(data_dir,'amide_class_train_lbl.sdf'),\\\n",
    "                                      smilesName='SMILES',molColName='Molecule',\\\n",
    "                                      includeFingerprints=False)\n",
    "\n",
    "amide_test      = PandasTools.LoadSDF(os.path.join(data_dir,'amide_class_test_lbl.sdf'),\\\n",
    "                                      smilesName='SMILES',molColName='Molecule',\\\n",
    "                                      includeFingerprints=False)"
   ]
  },
  {
   "cell_type": "code",
   "execution_count": 3,
   "id": "9f8df3e7",
   "metadata": {},
   "outputs": [
    {
     "data": {
      "text/html": [
       "<table border=\"1\" class=\"dataframe\">\n",
       "  <thead>\n",
       "    <tr style=\"text-align: right;\">\n",
       "      <th></th>\n",
       "      <th>ID</th>\n",
       "      <th>Molecule</th>\n",
       "      <th>SMILES</th>\n",
       "      <th>activity</th>\n",
       "      <th>class</th>\n",
       "      <th>ids</th>\n",
       "      <th>lbls</th>\n",
       "    </tr>\n",
       "  </thead>\n",
       "  <tbody>\n",
       "    <tr>\n",
       "      <th>0</th>\n",
       "      <td>CHEMBL521167</td>\n",
       "      <td><img src=\"data:image/png;base64,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\" alt=\"Mol\"/></td>\n",
       "      <td>COc1cc(P(=O)(c2ccccc2)c2ccccc2)cc(OC)n1</td>\n",
       "      <td>0</td>\n",
       "      <td>0</td>\n",
       "      <td>NA</td>\n",
       "      <td>NA</td>\n",
       "    </tr>\n",
       "    <tr>\n",
       "      <th>1</th>\n",
       "      <td>CHEMBL3325506</td>\n",
       "      <td><img src=\"data:image/png;base64,iVBORw0KGgoAAAANSUhEUgAAAMgAAADICAIAAAAiOjnJAAAEJElEQVR4nO3bQVLjRgBAUZTKjeD+JxjOpCw8cUwI0Lb1pbbzXs1iphCSGP9qtdvNsq7rC2ztj6NvgOckLBLCIiEsEsIiISwSwiIhLBLCIiEsEsIiISwSwiIhLBLCIiEsEsIiISwSwiIhLBLCIiEsEsIiISwSwiIhLBLCIiEsEsIiISwSwiIhLBLCIiEsEsIiISwSwiIhLBLCIiEsEsIiISwSwiIhLBLCIiEsEsIiISwSwiIhLBLCIiEsEsIiISwSwiIhLBLCIiEsEsIiISwSwiIhLBLCIiEsEsIiISwSwiIhLBLCIiEsEsIiISwSwiIhLBLCIiEsEsIiISwSwiIhLBJ/7nCNt/f3019+vb7ucDlmsEdYL1cmtSzLj8es63rH7ZDbKazToDWS17IsI9EMHsZRZhyxTr5KR1IPYa7J+zmab+pZ1/X01ZEnJkfZKazz/J3/iT3CGnwOjgxXJwat+c31KHwxhXoWs4R1HoEGqzJoTW6n4eHHYq4N67ZvYTfbvCqXa+uX8/T3t7fBM9yWyOdB65/vP5/q/NVbf9IfB8W7/g/vvr05bRbW9zP0wRHrhkv/8I3L8qGw6y8xcmO3j5p33960Nptjvb2/f7Om8Prr11YXOsRXg5YZ3lc2W3m/8wPmex6F91x35PyDq7WmepdmeVf46Lw//ZeJwrr2tRkaJNb1ZVl+/7n1ncHIau1VZ/4wYb/19iY31wB+w3LDtRcYf/3Gn3Hjnxl8uI2ni+nSTrsbBg0ue+4wp7lq5nQ+cuhbnrqns7nCOquimWCcWE6LbUffRm2uR+FJvYN08PzXDoqXD8TNT355lR+PmeE1nTGsGVQLtn+XEZ38qsNSfplib7ssTBw/WMy7NflY6YLtuq43TLGu2fpx/BRuvx2kT7+J9KoQ61f96CehEetrU31QM8+dDJpo5f2hPdwLX5t0HWsSIwu2u63WducvPN4d76zdj7XdPczm8e54f+0O0oGrb3j+jz/K738U9y+sI33eQPqfywS3tTW+O7UYEU3eD5aulR64Q0xYBzuNUpdOu7M+HnPjYv3nk39x2PYfBnhXOJ3nmJsYsY43Mq483KAlrClsPkpdRnLIEOhd4SMZ3jZzY0wbvj00Yj2l439fyIj1YHbYXrtJEsIi4VFIQlgkhEVCWCSERUJYJIRFQlgkhEVCWCSERUJYJIRFQlgkhEVCWCSERUJYJIRFQlgkhEVCWCSERUJYJIRFQlgkhEVCWCSERUJYJIRFQlgkhEVCWCSERUJYJIRFQlgkhEVCWCSERUJYJIRFQlgkhEVCWCSERUJYJIRFQlgkhEVCWCSERUJYJIRFQlgkhEVCWCSERUJYJIRFQlgkhEVCWCSERUJYJIRFQlgkhEVCWCSERUJYJIRFQlgkhEVCWCSERUJYJIRFQlgk/gLFqthraWyb3wAAAABJRU5ErkJggg==\" alt=\"Mol\"/></td>\n",
       "      <td>CCN1CCC(NC(=O)c2ccc(COc3ccc(C(F)(F)F)cc3)cc2)CC1</td>\n",
       "      <td>1</td>\n",
       "      <td>1</td>\n",
       "      <td>7,8,9</td>\n",
       "      <td>0,0,0,0,0,0,1,1,1,0,0,0,0,0,0,0,0,0,0,0,0,0,0,0,0,0,0,0,0</td>\n",
       "    </tr>\n",
       "    <tr>\n",
       "      <th>2</th>\n",
       "      <td>CHEMBL205773</td>\n",
       "      <td><img src=\"data:image/png;base64,iVBORw0KGgoAAAANSUhEUgAAAMgAAADICAIAAAAiOjnJAAAFC0lEQVR4nO3dwY6jSBAAUVjt//8ye0CDkD29bYqMJF0Z79SHaYsR4SwaMF63bVukaP88vQGak2EJYVhCGJYQhiWEYQlhWEIYlhCGJYRhCWFYQhiWEIYlhGEJYVhCGJYQhiWEYQlhWEIYlhCGJYRhCWFYQhiWEIYlhGEJYVhCGJYQhiWEYQlhWEIYlhCGJYRhCWFYQhiWEIYlhGEJYVhCGJYQhiWEYQlhWEIYlhCGJYRhCWFYQvz79AY8Zl3Xgd9K+HrHsht2SdOw1nUd2xPDv0i/Pr1hV7kUClEr8xznN/cnb/SXf8PNhuOVL62Gl/4vaZouhbsP98S2bcn7rE4fw9othfcT2TuL2p5D2Q0b0yusq4vggd5npVaxEL3CilJqNpzV2bBGYQ2Pqx23z+YbV0ursA4hO7LObHhRZMO6hFU2pinH1dIkrJuL4Nm5rfudQVVVGFotwlK++cMKHFe7qKGFLoKPD635w6ovtoDHF8HdnEeOh/Bx9dMrD7wCcf3x/bLmzQ0bNvm1wvNlvti30P1ey96BE8KlsISQQ6JSZy7mDws9jL2zL8tuWIj5w1oK/In0k8CzYo+X9KJFWJA6+zLtVsTPdQmrw9AqpUtYS/Ruq3M1puC4WlqFFSh25wUWX6SqpVtYZdea4QWxTkkveoUVouy+LLVhk595f3c+Fz/2KSvIy0WCgc+llVJ3y1DzXYepFplLoRC1Ms9U9tkbZTfskqZhVVs45uNSKETHsBxXCTqGpQTtwnJc5egVllWl6RWW0jQKy3GVqVFYytQlLMdVshZhWVW+FmEp3/xhOa4eMX9YesQvd5Cu63K824+f99s6jp/TxsEc95M0cfnW5HNemW1Nc2tlE7+H9TIm3vfRtqXOLX2F38M6L4WH5JLGHkZ16YMJijXyKZ33qjKHlol8hct/Fe7zYl1/XyKjTPYlM00ErxHE3IIeoyhU8HmsfU0MZA1fqtEJUhfETPFhBQ4tx9X3QiZW+IIYxaGVhloKt+3uk+zrPNlMAxodYykTGJbfM9MZGJY7rzNqMIw93Oxw/G70+Vvqq3X0An+i39g14P1XYq8fW1UmZCl0F4o5j/Xnh+GqjuPrqANtW08GhBV9IbrsVy/rf5DnseK+1juQkeWIDou53y/qlJhVpcEmVkRhnsn8XqFhkbcnj0XmuHpKaFjvH0EMeMnxb12zpAd1uQhtZMmYsLDTDZ8PLRfBZ33fxPowEUt61neEVfYOHP3kO8LS14l4Nx+zBB4MPm3mi9wO668POqrEpfARLoVCzB+W14UeMX9Yi2094fatyecPp3oooz8aHdh6FJ+pxVK4c0HM1CgsZeoVlkMrTa+wlKZdWA6tHO3CWmwrBf4R+7Le2/r7qQjPUAzpe2rH01qophNrpCovMFzRNKzl6lJY/u6gajqG5SKYoONfhUrQLyzHVYpmS+Hw4ZF3B13UKaybB932dEW/pVAp2oTlOYJcbcKyqlxtwlIuwxLCsIQwLCFmCet8Rfn4eV2LfiFnA/OeIPX8wqMmCsvhVMlEYZ3vl9LTZjnGUjHzhrXfj+D0eog3Jwkx78TSowxLCMMSwrCEMCwhDEsIwxLCsIQwLCEMSwjDEsKwhDAsIQxLCMMSwrCEMCwhDEsIwxLCsIQwLCEMSwjDEsKwhDAsIQxLCMMSwrCEMCwhDEsIwxLCsIQwLCEMSwjDEsKwhDAsIQxLCMMSwrCEMCwhDEuI/wAO28uCI2Af+AAAAABJRU5ErkJggg==\" alt=\"Mol\"/></td>\n",
       "      <td>Cc1ccc(-c2cccc(-c3cc(C(N)=O)cc(C(=O)O)c3)c2)cc1</td>\n",
       "      <td>1</td>\n",
       "      <td>1</td>\n",
       "      <td>14,15,16</td>\n",
       "      <td>0,0,0,0,0,0,0,0,0,0,0,0,0,1,1,1,0,0,0,0,0,0,0,0,0</td>\n",
       "    </tr>\n",
       "    <tr>\n",
       "      <th>3</th>\n",
       "      <td>CHEMBL146911</td>\n",
       "      <td><img src=\"data:image/png;base64,iVBORw0KGgoAAAANSUhEUgAAAMgAAADICAIAAAAiOjnJAAAGKklEQVR4nO3dXZLbKBSGYWlqduT97yBak3LBFGbQj5HEJ86B97lyOond1XoL0bLA87quE1DbP62/AfSJsCBBWJAgLEgQFiQICxKEBQnCggRhQYKwIEFYkCAsSBAWJAgLEoQFCcKCBGFBgrAgQViQICxP5nlu/S2UIiw3HFU1EZYL8zzHqrzkRVgVSA+2l5IyhPVIGEvWdU0HlbrPX/hFa/5t/Q14FY5uXO4bHmRffP78fs2shL4hjFInfzs9y6ukKuMHjrCuKY/mdl7nVXk5XoRV6l4o52Pb0atsuTtMhPXbw1Nb4X/fTcrv0SGsH64OOSfPMx2Hsq3K+3EhrEMVf8U7f860qm4OB2HtUCS1+/wxqf6OAmHlap377LxQE1x5z3V8sN9EWJAgLEgQFiQICxKEBQnCggRhQYKwIEFYkCAsSBAWJAgLEoQFCcKCBGFBgrAgQViQICxIEBYk2BRkAHF52Yu38xPWq7IlhMJ1ZvP8X0bxQfZYjLC0zvdiqL75UXjJ8AJ1nu0uwtJKV6WmX9z+scIyQxtJBYRlxaMzo6Wkgp4X49pxaXeGy0PX0cwp1sbkvXslxZQPXYf/LBvAWowdjFgvuTGFOsmrNKl2CMu6rEj7SQWE5UC67dH2eKk3XbqHOZYD6eWulM2kAt4rfCQ91uGxbnv2dV3jvD5+cIHNqiZGrOdefJskvqKDCQwj1lPpdaJgnoXj1mT13JdhxKrPw3GXY8SqYDtogbAqeH+aZR9hPZL2FB5TWEBY7vgol7AgQViQICxIEBYkCAsShFUFl0dzhAUJwnLGywVYwoIEYUGCsCBBWNUcbdMwprHCkh77cEM6eQU9hLUs88/Hk+ZW8bioIfwxrncQ5XW+diM+Vt8bXaKHsHYty/z5aH81Pyr1u5xGcHh/PmW467D5VYlO7nnPBqf4xdhWGsHzoStd0He01cIa9z2bal59CrdBp8+XpdY8qaCTsGJAsbCj4apKVUcbXE3bJTSavLavMG1Oi20L6ySsc0cxXY3sfOXxa3n9XLvRvKqp47DC0JWNW7eHq/LF7N8z4PYfn/zVRSdtxUl927YcrKmt6N5M62aOxrZ/eVm3I9auoz5OzpUn/+vni4Wn+D4eyVhhpepv2XjwMuG5vo/HMNapsJBqe6DmE58XjTtiHRHu5bJ79anT1AirhUafFvGmbt/SQVuEBQnCggRzrBYafVrEmwirkU57ijgVQoKwIEFYkCAsSBAWJAgLEoQFCcKCBGFBgrAgQViQICxIEBYkCAsS3DbzlX5Y/OTkg0zNYvnXNO2t90o3uOJHdANh/VgGHfGDumTosH6e8nY35hv5J1Zu3LAKF6Yebfo47M+t0IhhXZ2bn28oOuAPsMRYYd3+dY9x66qBrmOFc9+9FI42sX38TXVriLCyTbPvIaNLOj8VVr/UGc+Jff/cnut5xHpy7jsSt+BOXmXKHpvd1P9NPYclsi3Vy6b+b+K9wgq8bOr/JkYsiTA+ZT1xKsRlLjb1fxNhVXPSzXZS372eLzcIt6nFL4xYkCAsSBAWJAgLEoQFCcKChIG3dHrfmHpMrcMa4FNlxsSpEBKEBQnCgkTrOdbup8ow2fKvdVjT3i+D2xvn4I2lU+FQt5X0zlJY2WnxWWfny5ehZimszLouy5044ipCbsZqyMAcK/VsdsWGaXaYG7GWP9/Hn0/poLUsjFK2WLx5d1nmz6f0uwrllf97vMPYqfAKkrLM4oj1E0nZ52/EunSiRCsuRyzYZ+63QvTBx6kwXnTgJOiFg7CYVHnk41S4LPO9t3fQitHJ++4oxdDliLlTIdeo+mAprHle/uwktZ25M3TZZyOscO/Uun72/pKGPGo9eQ+bCRfs/JpO3svvekArTSfvF2+9+t8ZkJvibWs6Yj0p4/G9y5AyernhEEvynZCNWKKPZ6i64AI6L/5WqBhgGLGsUoYlGk5YzuqBMqx0MiR6ZljV+joWOvViWOEUxnR7DN4uN8AJG+8VPsEWpiY5D4vrpVYxeYcEYUGCsCDhfI61u4UpDHAe1kRPRnEqhARhQYKwIEFYkCAsSBAWJAgLEoQFCcKCBGFBgrAgQViQICxIEBYkCAsShAUJwoLEX61BAYVMWPz/AAAAAElFTkSuQmCC\" alt=\"Mol\"/></td>\n",
       "      <td>CCC(C)C(NC(=O)C(S)C(N)CCS(=O)(=O)O)C(N)=O</td>\n",
       "      <td>1</td>\n",
       "      <td>1</td>\n",
       "      <td>6,7,8,19,20,21</td>\n",
       "      <td>0,0,0,0,0,1,1,1,0,0,0,0,0,0,0,0,0,0,1,1,1</td>\n",
       "    </tr>\n",
       "    <tr>\n",
       "      <th>4</th>\n",
       "      <td>CHEMBL355377</td>\n",
       "      <td><img src=\"data:image/png;base64,iVBORw0KGgoAAAANSUhEUgAAAMgAAADICAIAAAAiOjnJAAAFZklEQVR4nO3d0ZKbOBBGYWkr7//K7AUeLAsQSOpfNurz3WwqlWRc3jMNaBCOy7IEwNp/334BmBNhQYKwIEFYkCAsSBAWJAgLEoQFCcKCBGFBgrAgQViQICxIEBYkCAsShAUJwoIEYUGCsCBBWJAgLEgQFiT+ffsFIBHj6xfP35NHWCUxxhDCoK2XMb57Sn/9TIR1IP5NjjWpGCPbemsR1lvW02ZZFtqqRVghDD7k+eD6G/FsRJ39Ycl7lZ1a/b0g+y80lseJVdXTZsQB8fk9bXxNrP5DnnFbc10JptwtkLr6Rvoid2F1Wg+INv/WvOMqEFYDy7bmRVgt+tuKU4+rQFjNmFtlhDXU2mJ6aRlnHFeBsHoUhlb6+z4HG2F1Sdu6GVDW3KzLH4TVpaGM7Y6JiasKhNUjK6OtsFkRlsRlcNNfVBJWo7YD2fpX5p5VK8JqYXJ6NPfQIqxqMZqNnGVZZk2LsCBBWHXM18mXJUw5tNyF1XNaM+lPXyRmXqM703ZrstR8yXoMaxNjDGG9/v/2S5mO67A2E+2O+RUed+nsZfuvyKsfYX0gKSvurgrvSy8fp1wRkCKskpE97Ts+LDvGZ1ROWCWDVy8vv9a6KvGI4zXnWD9k7TjtJkvtEUmtmFgXvvsjl3U+ZT1xKJzEyDlx2fFT1ugJ69S3/v8Vvu7+pP5nsfJ+y1PmxO9gYt0y680tOoQFCcK6i6FVhbCqUNZdhAUJwqow94YtW4QFCX5WWO0Hb5n/QSyQVtu2Qb8Le/2Hd/KNidUu/55MT7/cR0ZYdUpPbdjf7+I4Lw6FFbJLQt66AibWXftZlZ9jBdcjKsPEuuXuc4sOT7Nc7lpkYl2reBrW/o/N/kEBZ1ggvTD3I2h1CAsShFXCuGrGOdYpm6rS27g8NUpYxyxnlaeeNhwKD3AE7EdYOaoyQVgfqMoKYUGCsCBBWB+4q90KYUGCsCBBWHtcFRogLEgQVo5nNJggLEgQ1gGGVj/CggRhHeMHhp0ICxKEBQnCggRhQYKwjpU/iwuXCOsUJfUgrFP7ZdKnfFbgL2D7VwUWt+5jYpXws51mhPVhnxFTqg27nd48PWVIjon1QlW2CAsSk14VVj4Zmw3Q5qYIa/+coKNPgo8nzzmmKoXnv6c1D/lMN6Nuny7x+HfgJ00xsTLnD+9PG1ojW7c+05a5GcNaK7n3HD021IvMGNbq8zHr8f3bPJ1hhOeHdfmQz2UJye5mqhrD6enFPi+f74OO0wVSMlJzGhbU/IbF0JLyGxakXIfF0NJxHVaKZQhb3sNiaIl4DwsihMXQkiAsSBBWCAwtAcJ648LQEGG9MLRsEdYHhpaV59+PZWS7QXlrixnWg7ByW08U1sPpjX6Z8n6KbdvFwFf0eIR1dwcYA6yK97AaHtlAYXe4DqvzQSAcIgtYbmhHUgV+w+K5RVJOw6IqNadhUZWa07CgRliQICxIEBYkXITFJy6N5yKsQEnDeQmLT1wazO/9WCxlSXmZWIFPXBrLUViBKTWQi7DSnmhrDBdh7XFYVHMaVqAtMb9hhe622IRY4He5YbW2df/Ea/9pPDjkPazwauvi3n82UNQirBJ6auZ6l05qv8U+0FMHJlYIf1WxncuQ66vCDEkZIiw+ZFWCsCDhPax0XDG6DHkPi45EvIeVIjJDvsNip72M77BSRGaKsCDhOCxGlJLjsFJEZs1xWJSk5DisFJFZIyxIEBYkCAsSXm/0224T5exKw2VY6eICCw0aHAohQViQICxIuDzHSrfWc4Kl4TKsQE9yHAohQViQICxIEBYkCAsShAUJwoIEYUGCsCBBWJAgLEgQFiQICxKEBQnCggRhQYKwIPE/NVwvgBlGEiUAAAAASUVORK5CYII=\" alt=\"Mol\"/></td>\n",
       "      <td>NC(=O)C1CCCN1C(=O)CNC(=O)C1CCC(=O)N1</td>\n",
       "      <td>1</td>\n",
       "      <td>1</td>\n",
       "      <td>1,2,3,8,9,10,12,13,14,18,19,20</td>\n",
       "      <td>1,1,1,0,0,0,0,1,1,1,0,1,1,1,0,0,0,1,1,1</td>\n",
       "    </tr>\n",
       "  </tbody>\n",
       "</table>"
      ],
      "text/plain": [
       "              ID                                                                                                                                                                                                                                                                                                                                                                                                                                                                                                                                                                                                                                                                                                                                                                                                                                                                                                                                                                                                                                                                                                                                                                                                                                                                                                                                                                                                                                                                                                                                                                                                                                                                                                                                                                                                                                                                                                                                                                                                                                                                                                                                                                                                                                                                                                           Molecule                                            SMILES activity class                             ids                                                       lbls\n",
       "0   CHEMBL521167          <img src=\"data:image/png;base64,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\" alt=\"Mol\"/>           COc1cc(P(=O)(c2ccccc2)c2ccccc2)cc(OC)n1        0     0                              NA                                                         NA\n",
       "1  CHEMBL3325506                                                                                                                                                                                                                                                                                                                                                                                                                                                                                                                                                                                                                                                                                                                  <img src=\"data:image/png;base64,iVBORw0KGgoAAAANSUhEUgAAAMgAAADICAIAAAAiOjnJAAAEJElEQVR4nO3bQVLjRgBAUZTKjeD+JxjOpCw8cUwI0Lb1pbbzXs1iphCSGP9qtdvNsq7rC2ztj6NvgOckLBLCIiEsEsIiISwSwiIhLBLCIiEsEsIiISwSwiIhLBLCIiEsEsIiISwSwiIhLBLCIiEsEsIiISwSwiIhLBLCIiEsEsIiISwSwiIhLBLCIiEsEsIiISwSwiIhLBLCIiEsEsIiISwSwiIhLBLCIiEsEsIiISwSwiIhLBLCIiEsEsIiISwSwiIhLBLCIiEsEsIiISwSwiIhLBLCIiEsEsIiISwSwiIhLBLCIiEsEsIiISwSwiIhLBLCIiEsEsIiISwSwiIhLBJ/7nCNt/f3019+vb7ucDlmsEdYL1cmtSzLj8es63rH7ZDbKazToDWS17IsI9EMHsZRZhyxTr5KR1IPYa7J+zmab+pZ1/X01ZEnJkfZKazz/J3/iT3CGnwOjgxXJwat+c31KHwxhXoWs4R1HoEGqzJoTW6n4eHHYq4N67ZvYTfbvCqXa+uX8/T3t7fBM9yWyOdB65/vP5/q/NVbf9IfB8W7/g/vvr05bRbW9zP0wRHrhkv/8I3L8qGw6y8xcmO3j5p33960Nptjvb2/f7Om8Prr11YXOsRXg5YZ3lc2W3m/8wPmex6F91x35PyDq7WmepdmeVf46Lw//ZeJwrr2tRkaJNb1ZVl+/7n1ncHIau1VZ/4wYb/19iY31wB+w3LDtRcYf/3Gn3Hjnxl8uI2ni+nSTrsbBg0ue+4wp7lq5nQ+cuhbnrqns7nCOquimWCcWE6LbUffRm2uR+FJvYN08PzXDoqXD8TNT355lR+PmeE1nTGsGVQLtn+XEZ38qsNSfplib7ssTBw/WMy7NflY6YLtuq43TLGu2fpx/BRuvx2kT7+J9KoQ61f96CehEetrU31QM8+dDJpo5f2hPdwLX5t0HWsSIwu2u63WducvPN4d76zdj7XdPczm8e54f+0O0oGrb3j+jz/K738U9y+sI33eQPqfywS3tTW+O7UYEU3eD5aulR64Q0xYBzuNUpdOu7M+HnPjYv3nk39x2PYfBnhXOJ3nmJsYsY43Mq483KAlrClsPkpdRnLIEOhd4SMZ3jZzY0wbvj00Yj2l439fyIj1YHbYXrtJEsIi4VFIQlgkhEVCWCSERUJYJIRFQlgkhEVCWCSERUJYJIRFQlgkhEVCWCSERUJYJIRFQlgkhEVCWCSERUJYJIRFQlgkhEVCWCSERUJYJIRFQlgkhEVCWCSERUJYJIRFQlgkhEVCWCSERUJYJIRFQlgkhEVCWCSERUJYJIRFQlgkhEVCWCSERUJYJIRFQlgkhEVCWCSERUJYJIRFQlgkhEVCWCSERUJYJIRFQlgkhEVCWCSERUJYJIRFQlgkhEVCWCSERUJYJIRFQlgk/gLFqthraWyb3wAAAABJRU5ErkJggg==\" alt=\"Mol\"/>  CCN1CCC(NC(=O)c2ccc(COc3ccc(C(F)(F)F)cc3)cc2)CC1        1     1                           7,8,9  0,0,0,0,0,0,1,1,1,0,0,0,0,0,0,0,0,0,0,0,0,0,0,0,0,0,0,0,0\n",
       "2   CHEMBL205773                                                                                                                                                                                                                                                                                                                                                                                              <img src=\"data:image/png;base64,iVBORw0KGgoAAAANSUhEUgAAAMgAAADICAIAAAAiOjnJAAAFC0lEQVR4nO3dwY6jSBAAUVjt//8ye0CDkD29bYqMJF0Z79SHaYsR4SwaMF63bVukaP88vQGak2EJYVhCGJYQhiWEYQlhWEIYlhCGJYRhCWFYQhiWEIYlhGEJYVhCGJYQhiWEYQlhWEIYlhCGJYRhCWFYQhiWEIYlhGEJYVhCGJYQhiWEYQlhWEIYlhCGJYRhCWFYQhiWEIYlhGEJYVhCGJYQhiWEYQlhWEIYlhCGJYRhCWFYQvz79AY8Zl3Xgd9K+HrHsht2SdOw1nUd2xPDv0i/Pr1hV7kUClEr8xznN/cnb/SXf8PNhuOVL62Gl/4vaZouhbsP98S2bcn7rE4fw9othfcT2TuL2p5D2Q0b0yusq4vggd5npVaxEL3CilJqNpzV2bBGYQ2Pqx23z+YbV0ursA4hO7LObHhRZMO6hFU2pinH1dIkrJuL4Nm5rfudQVVVGFotwlK++cMKHFe7qKGFLoKPD635w6ovtoDHF8HdnEeOh/Bx9dMrD7wCcf3x/bLmzQ0bNvm1wvNlvti30P1ey96BE8KlsISQQ6JSZy7mDws9jL2zL8tuWIj5w1oK/In0k8CzYo+X9KJFWJA6+zLtVsTPdQmrw9AqpUtYS/Ruq3M1puC4WlqFFSh25wUWX6SqpVtYZdea4QWxTkkveoUVouy+LLVhk595f3c+Fz/2KSvIy0WCgc+llVJ3y1DzXYepFplLoRC1Ms9U9tkbZTfskqZhVVs45uNSKETHsBxXCTqGpQTtwnJc5egVllWl6RWW0jQKy3GVqVFYytQlLMdVshZhWVW+FmEp3/xhOa4eMX9YesQvd5Cu63K824+f99s6jp/TxsEc95M0cfnW5HNemW1Nc2tlE7+H9TIm3vfRtqXOLX2F38M6L4WH5JLGHkZ16YMJijXyKZ33qjKHlol8hct/Fe7zYl1/XyKjTPYlM00ErxHE3IIeoyhU8HmsfU0MZA1fqtEJUhfETPFhBQ4tx9X3QiZW+IIYxaGVhloKt+3uk+zrPNlMAxodYykTGJbfM9MZGJY7rzNqMIw93Oxw/G70+Vvqq3X0An+i39g14P1XYq8fW1UmZCl0F4o5j/Xnh+GqjuPrqANtW08GhBV9IbrsVy/rf5DnseK+1juQkeWIDou53y/qlJhVpcEmVkRhnsn8XqFhkbcnj0XmuHpKaFjvH0EMeMnxb12zpAd1uQhtZMmYsLDTDZ8PLRfBZ33fxPowEUt61neEVfYOHP3kO8LS14l4Nx+zBB4MPm3mi9wO668POqrEpfARLoVCzB+W14UeMX9Yi2094fatyecPp3oooz8aHdh6FJ+pxVK4c0HM1CgsZeoVlkMrTa+wlKZdWA6tHO3CWmwrBf4R+7Le2/r7qQjPUAzpe2rH01qophNrpCovMFzRNKzl6lJY/u6gajqG5SKYoONfhUrQLyzHVYpmS+Hw4ZF3B13UKaybB932dEW/pVAp2oTlOYJcbcKyqlxtwlIuwxLCsIQwLCFmCet8Rfn4eV2LfiFnA/OeIPX8wqMmCsvhVMlEYZ3vl9LTZjnGUjHzhrXfj+D0eog3Jwkx78TSowxLCMMSwrCEMCwhDEsIwxLCsIQwLCEMSwjDEsKwhDAsIQxLCMMSwrCEMCwhDEsIwxLCsIQwLCEMSwjDEsKwhDAsIQxLCMMSwrCEMCwhDEsIwxLCsIQwLCEMSwjDEsKwhDAsIQxLCMMSwrCEMCwhDEuI/wAO28uCI2Af+AAAAABJRU5ErkJggg==\" alt=\"Mol\"/>   Cc1ccc(-c2cccc(-c3cc(C(N)=O)cc(C(=O)O)c3)c2)cc1        1     1                        14,15,16          0,0,0,0,0,0,0,0,0,0,0,0,0,1,1,1,0,0,0,0,0,0,0,0,0\n",
       "3   CHEMBL146911  <img src=\"data:image/png;base64,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\" alt=\"Mol\"/>         CCC(C)C(NC(=O)C(S)C(N)CCS(=O)(=O)O)C(N)=O        1     1                  6,7,8,19,20,21                  0,0,0,0,0,1,1,1,0,0,0,0,0,0,0,0,0,0,1,1,1\n",
       "4   CHEMBL355377                                                                                                                                                                                                                                                                      <img src=\"data:image/png;base64,iVBORw0KGgoAAAANSUhEUgAAAMgAAADICAIAAAAiOjnJAAAFZklEQVR4nO3d0ZKbOBBGYWkr7//K7AUeLAsQSOpfNurz3WwqlWRc3jMNaBCOy7IEwNp/334BmBNhQYKwIEFYkCAsSBAWJAgLEoQFCcKCBGFBgrAgQViQICxIEBYkCAsShAUJwoIEYUGCsCBBWJAgLEgQFiT+ffsFIBHj6xfP35NHWCUxxhDCoK2XMb57Sn/9TIR1IP5NjjWpGCPbemsR1lvW02ZZFtqqRVghDD7k+eD6G/FsRJ39Ycl7lZ1a/b0g+y80lseJVdXTZsQB8fk9bXxNrP5DnnFbc10JptwtkLr6Rvoid2F1Wg+INv/WvOMqEFYDy7bmRVgt+tuKU4+rQFjNmFtlhDXU2mJ6aRlnHFeBsHoUhlb6+z4HG2F1Sdu6GVDW3KzLH4TVpaGM7Y6JiasKhNUjK6OtsFkRlsRlcNNfVBJWo7YD2fpX5p5VK8JqYXJ6NPfQIqxqMZqNnGVZZk2LsCBBWHXM18mXJUw5tNyF1XNaM+lPXyRmXqM703ZrstR8yXoMaxNjDGG9/v/2S5mO67A2E+2O+RUed+nsZfuvyKsfYX0gKSvurgrvSy8fp1wRkCKskpE97Ts+LDvGZ1ROWCWDVy8vv9a6KvGI4zXnWD9k7TjtJkvtEUmtmFgXvvsjl3U+ZT1xKJzEyDlx2fFT1ugJ69S3/v8Vvu7+pP5nsfJ+y1PmxO9gYt0y680tOoQFCcK6i6FVhbCqUNZdhAUJwqow94YtW4QFCX5WWO0Hb5n/QSyQVtu2Qb8Le/2Hd/KNidUu/55MT7/cR0ZYdUpPbdjf7+I4Lw6FFbJLQt66AibWXftZlZ9jBdcjKsPEuuXuc4sOT7Nc7lpkYl2reBrW/o/N/kEBZ1ggvTD3I2h1CAsShFXCuGrGOdYpm6rS27g8NUpYxyxnlaeeNhwKD3AE7EdYOaoyQVgfqMoKYUGCsCBBWB+4q90KYUGCsCBBWHtcFRogLEgQVo5nNJggLEgQ1gGGVj/CggRhHeMHhp0ICxKEBQnCggRhQYKwjpU/iwuXCOsUJfUgrFP7ZdKnfFbgL2D7VwUWt+5jYpXws51mhPVhnxFTqg27nd48PWVIjon1QlW2CAsSk14VVj4Zmw3Q5qYIa/+coKNPgo8nzzmmKoXnv6c1D/lMN6Nuny7x+HfgJ00xsTLnD+9PG1ojW7c+05a5GcNaK7n3HD021IvMGNbq8zHr8f3bPJ1hhOeHdfmQz2UJye5mqhrD6enFPi+f74OO0wVSMlJzGhbU/IbF0JLyGxakXIfF0NJxHVaKZQhb3sNiaIl4DwsihMXQkiAsSBBWCAwtAcJ648LQEGG9MLRsEdYHhpaV59+PZWS7QXlrixnWg7ByW08U1sPpjX6Z8n6KbdvFwFf0eIR1dwcYA6yK97AaHtlAYXe4DqvzQSAcIgtYbmhHUgV+w+K5RVJOw6IqNadhUZWa07CgRliQICxIEBYkXITFJy6N5yKsQEnDeQmLT1wazO/9WCxlSXmZWIFPXBrLUViBKTWQi7DSnmhrDBdh7XFYVHMaVqAtMb9hhe622IRY4He5YbW2df/Ea/9pPDjkPazwauvi3n82UNQirBJ6auZ6l05qv8U+0FMHJlYIf1WxncuQ66vCDEkZIiw+ZFWCsCDhPax0XDG6DHkPi45EvIeVIjJDvsNip72M77BSRGaKsCDhOCxGlJLjsFJEZs1xWJSk5DisFJFZIyxIEBYkCAsSXm/0224T5exKw2VY6eICCw0aHAohQViQICxIuDzHSrfWc4Kl4TKsQE9yHAohQViQICxIEBYkCAsShAUJwoIEYUGCsCBBWJAgLEgQFiQICxKEBQnCggRhQYKwIPE/NVwvgBlGEiUAAAAASUVORK5CYII=\" alt=\"Mol\"/>              NC(=O)C1CCCN1C(=O)CNC(=O)C1CCC(=O)N1        1     1  1,2,3,8,9,10,12,13,14,18,19,20                    1,1,1,0,0,0,0,1,1,1,0,1,1,1,0,0,0,1,1,1"
      ]
     },
     "execution_count": 3,
     "metadata": {},
     "output_type": "execute_result"
    }
   ],
   "source": [
    "amide_train.head(5)"
   ]
  },
  {
   "cell_type": "code",
   "execution_count": 4,
   "id": "e4515281",
   "metadata": {},
   "outputs": [
    {
     "data": {
      "text/html": [
       "<table border=\"1\" class=\"dataframe\">\n",
       "  <thead>\n",
       "    <tr style=\"text-align: right;\">\n",
       "      <th></th>\n",
       "      <th>ID</th>\n",
       "      <th>Molecule</th>\n",
       "      <th>SMILES</th>\n",
       "      <th>activity</th>\n",
       "      <th>class</th>\n",
       "      <th>ids</th>\n",
       "      <th>lbls</th>\n",
       "    </tr>\n",
       "  </thead>\n",
       "  <tbody>\n",
       "    <tr>\n",
       "      <th>0</th>\n",
       "      <td>CHEMBL47942</td>\n",
       "      <td><img src=\"data:image/png;base64,iVBORw0KGgoAAAANSUhEUgAAAMgAAADICAIAAAAiOjnJAAAFIklEQVR4nO3d3W7bOhBFYaro+7+yeqHAFZwEFn/2kJy9PvSi56AtBGd5KJu2dJznWYDR/sw+AOREWJAgLEgQFiQICxKEBQnCggRhQYKwIEFYkCAsSBAWJAgLEoQFCcKCBGFBgrAgQViQICxIEBYkCAsShAUJwirHccw+hITcwzqO4zzP4zjIa6zD+QurV1X3/yylOD8gA/mG9VbV/f8X8upmGtZvVd3/QCGvDnZhVRVDXs28wvo4qH77W4W8Khm9KmyrqpRynuf1ynH4ISXmElZzVWhjERZVxcsf1pCqSLNW/rAwBWFBIn9YvKCbIn9YmMIkrK7zbs7cG1iEdZ6FxTCYRViI5xIWQyuYS1ilFE6TIhmF1YYz9zaEBYm/sw9gXbyt2oOwfjyp55N9vbxOII7j/yn8/fcYzu4ci/Uthl1YvKEVwy4sxHAMi6EVwDGswrvwei5hXSPq3hNtSVmExTsL8SzCQrz8YTGupsgf1rU/g2DJw+JDL7MkDwuzZA6LcTVR5rD4qupEmcPCRMnDYmjNkjwszJI/LIbWFPnDKrQ1g0VYiOcSFkMrmEtYhbZiGYWFSF5hMbTCeIWFMHZhMbRi2IXFRx5i2IWFGF5hMa7CeIVFU2GcwuL7OoGcwkIgm7AYV7FswqKqWDZhIRZhQYKwIEFYkMh7nffXTjOn7TMkDYsLus/GUggJwoIEYUEi6TnW/VLu1wkWZ1qxkoZVeDE4mc1SyO0oYtmEhVhOYTG0AjmFVUrhu19RzMJCFMdvrdQOLcOHqF/etxt+0fANML401oClEBJez8XX7Hm4Gr4eHIZWLbul8EIlakZLYc/U4Ro1tVzCYi0L5hJWP4ZWFYuwGFfx8oc1sCqG1nP5w8IUycMavggytB5KHhZmyRzWfVwNGTPXP8LQeiJzWPcC+mu4bwfxGvOjzGFhouRhjRpajKtaycPCLPnD6h9ajKsG+cMqfW0RUxuLsIagsCouYbUNLWJq5hJWGfSqEA8ZhXX3JDJi6mH32PH1rximEwtqjs9FvgkdwDGsWiyFDVgKIUFYn/EBrAaEBQnCeoShVYuwIEFYTzG0qhAWJAirAkPrOcKCBGHVYWg9ZHpFv05vbf2w3WO/BbTZLtgi+8cVu4eudxDeaWIt8lGquqpc7yC8U1jrYCn8aJuw3q7w8XFmXH/mOtceOLT4CM1D+70qfPij5eXbXHtMrP4raQ8ZM9X/zvc7CNvYbGJV/WhfQ2vm9DrPr19mNghrkdOaRQ5jFxuE9dLwo11iaFlaPaz+K70MaYtxVWv1sLCppcMadWGqzqHFuGqwdFjY17rPxeHX0au9C+aL6HJ+i2yoi6wbVpm+hfztrww8nkU21HVYCiGx+pNgkS3ksUPL4dbUe+wVZrVLJQ1WXwoHvmM+5J7QA2+d0nMY61s9rFEWuR3mRmtZpw3CWuRpymFU2SCsfovcDtNnXJVdwlpk9UlwGGG2fFVY+ypdYfin6ZPZ6aFZ5N3qfQ8j0h5LIbazdPXfLbJxO3cbe4vb3K17ZMuau429RVWFpRAihFWnbU6M2hHaZVwVwoIIYVWYu4290bgqhBWpp60tYrojrKcW+dEuchgfEVaotqG1S0x3hPXIIlvIGxVGWNM8LGyjmO62POhgi2wh71UYEwsSOz0JptDNiUU21EUICxIshZAgLEgQFiQICxKEBQnCggRhQYKwIEFYkCAsSBAWJAgLEoQFCcKCBGFBgrAgQViQICxIEBYkCAsShAUJwoLEP+TO9GMQZfYzAAAAAElFTkSuQmCC\" alt=\"Mol\"/></td>\n",
       "      <td>CC(=C(C(=O)c1ccc(OCCN2CCCC2)cc1)c1ccccc1)c1ccccc1</td>\n",
       "      <td>0</td>\n",
       "      <td>0</td>\n",
       "      <td>NA</td>\n",
       "      <td>NA</td>\n",
       "    </tr>\n",
       "    <tr>\n",
       "      <th>1</th>\n",
       "      <td>CHEMBL1412186</td>\n",
       "      <td><img src=\"data:image/png;base64,iVBORw0KGgoAAAANSUhEUgAAAMgAAADICAIAAAAiOjnJAAAFT0lEQVR4nO3d3XbbIBBFYejK+7+yeqFY0Z9lEHPEmNnfVVfTuG68CxJGcp6mKQHW/vV+AhgTYUGCsCBBWJAgLEgQFiQICxKEBQnCggRhQYKwIEFYkCAsSBAWJAgLEoQFCcKCBGFBgrAgQViQICxIEBYkfno/AUdyzrXfwsVz7xDWr5zzjUrufVcETIWQ4D9cStuBp3xCnL+FQesUU+EelZhgKmwdcqZpunHUPzzCgkT0sEyOkBi0jkKHZXjcTVs7ocOCTtywzJcJGLTW4oYFqaBhiVY1GbQWQcOCWsSw7r2BU/KwiUHrJWJY69feqoMlVt46nEUMCw8IGpbtoMVwdRQ0LEPEdCpuWOZHWhS2FjcsE8T0TuiwDActCtsJHVZq64lj9gvRw1qrioyYrhEWk6AEYW0URkZMH/ED+sUFq7YYsSDBf7g/3LvBEBesblSFwvaYC0yFv24cLbH16gJhQYKwmjBovUNYKbWtGnD0foqwIEFYzaYpMRseEBar5xKEBQnCssCAdxA9LOZBkehhQYSwIBE6LOZBnbi7G4zfilkejVJTSjHDWm4Ls/t1yyP+9bT+dWCBwnqNKZvpj+u3REKENSf1KmfafilP07RsUqjLi8HpvcHD2ia1+9KmpLqh6+JxkVKKuec953TxD//c1ulAxcH71lBhfTyGLhxorqZFpr8yo02F7173qrnrdFq0OX8MY7Sw5s1Rx1f/Rg/rI3pOG2uNFpYtFiNuG/AtHasdnVwl0WLAsBJnZg4MFdZ6rKKtvoYKC34QFiQICxKEBYnxwrJZI2DtqtF4YRmjsHt6hsUK5MB6hmV+D6D1Hf0NHxY3dJ4K57bMO+C2Vd31P8Za7wxusXsE2uqrf1izxs+02W1dXz2m0fNDJV+nPLWb6U7//O43G7enc1Z4j8efWslr+THB3Xa/ezuK2TV6m8ew0mVb5S92y/b03UWtPn9Knvn9kR0DujF+1M6D8wU8x7+FoauW37Bm82jR+LqWDF0lCXKFTjnvYSX9TFQ1qtFWoS8Iyxuugi7hZR3ri0wTd+D+LFZY6xoay2DEuhYrrNTcEwqFC4tZ7BnhwrJ1nFupdhYxLNtBi5JORQwrmR56HzPNmdqC3RRk3ZPutI4TxhR2xLLFCcERYRngfZ4jwmpynFspbEZYkCCsVsyDpwgLEoTVjhPCE4QFCcKCBGFBgrAgQViQIKxW3H3kFGEZEN2M6asRlg2rmzENg7As0daCsIwxLc4Iyx7TYiIsneBtEZZQ5GmRsLTCTouE9YSAbREWJAgLEoQFCcJ6QsD7LhMWJAgLEoQFCcKCBGFBgrAgQViQICy5gItYibAgQliQICxIEJZcwM1YibCeEXCPMmE95LVH2eChviJQwnpU4x3h52HvK+bWiEss3d34jNb5U9AbP3r9SYTVTeHtlq8rdLv66vRpIRUPbD7b8vickCpvH+9wWiSscbgaujgr7M/qI9BdnS0SlgtWPfhZiSUsFww/8dDJ3SIIa0zd2yIsLwb7mFbCcsTNKZ0BwupvPVYN0xZhQYKwIEFYw+o7qRIWJAjLCeuVht6fgU5YkCAsSBBWf5LtLr0XxAgLEoQFCcLqz88mKkOE5YKTTVSGHO2SRrK6LMLBe9qE5VHTeeJ6abTfMilToUfV02LO3nYJ/vR+Aji3tPVh6Lpxuf4jCMuvOanTaTHnPL3+0NNPqwzHWF9gPXRVDGOJg3cUcHgd/QXCggRnhZAgLEgQFiQICxKEBQnCggRhQYKwIEFYkCAsSBAWJAgLEoQFCcKCBGFBgrAgQViQICxIEBYkCAsShAUJwoLEf0pVoW8YpqM9AAAAAElFTkSuQmCC\" alt=\"Mol\"/></td>\n",
       "      <td>CCc1nc(NCCCN2CCOCC2)c2oc3ccccc3c2n1</td>\n",
       "      <td>0</td>\n",
       "      <td>0</td>\n",
       "      <td>NA</td>\n",
       "      <td>NA</td>\n",
       "    </tr>\n",
       "  </tbody>\n",
       "</table>"
      ],
      "text/plain": [
       "              ID                                                                                                                                                                                                                                                                                                                                                                                                                                                                                                                                                                                                                                                                                                                                                                                                                                                                                                                                                                                                                                                                                                                                                                                                                                                                                                                                                                                                                                                                                                                                                                                                                                                                                                                                                                                                                                                                                                                                                                                                       Molecule                                             SMILES activity class ids lbls\n",
       "0    CHEMBL47942                                                              <img src=\"data:image/png;base64,iVBORw0KGgoAAAANSUhEUgAAAMgAAADICAIAAAAiOjnJAAAFIklEQVR4nO3d3W7bOhBFYaro+7+yeqHAFZwEFn/2kJy9PvSi56AtBGd5KJu2dJznWYDR/sw+AOREWJAgLEgQFiQICxKEBQnCggRhQYKwIEFYkCAsSBAWJAgLEoQFCcKCBGFBgrAgQViQICxIEBYkCAsShAUJwirHccw+hITcwzqO4zzP4zjIa6zD+QurV1X3/yylOD8gA/mG9VbV/f8X8upmGtZvVd3/QCGvDnZhVRVDXs28wvo4qH77W4W8Khm9KmyrqpRynuf1ynH4ISXmElZzVWhjERZVxcsf1pCqSLNW/rAwBWFBIn9YvKCbIn9YmMIkrK7zbs7cG1iEdZ6FxTCYRViI5xIWQyuYS1ilFE6TIhmF1YYz9zaEBYm/sw9gXbyt2oOwfjyp55N9vbxOII7j/yn8/fcYzu4ci/Uthl1YvKEVwy4sxHAMi6EVwDGswrvwei5hXSPq3hNtSVmExTsL8SzCQrz8YTGupsgf1rU/g2DJw+JDL7MkDwuzZA6LcTVR5rD4qupEmcPCRMnDYmjNkjwszJI/LIbWFPnDKrQ1g0VYiOcSFkMrmEtYhbZiGYWFSF5hMbTCeIWFMHZhMbRi2IXFRx5i2IWFGF5hMa7CeIVFU2GcwuL7OoGcwkIgm7AYV7FswqKqWDZhIRZhQYKwIEFYkMh7nffXTjOn7TMkDYsLus/GUggJwoIEYUEi6TnW/VLu1wkWZ1qxkoZVeDE4mc1SyO0oYtmEhVhOYTG0AjmFVUrhu19RzMJCFMdvrdQOLcOHqF/etxt+0fANML401oClEBJez8XX7Hm4Gr4eHIZWLbul8EIlakZLYc/U4Ro1tVzCYi0L5hJWP4ZWFYuwGFfx8oc1sCqG1nP5w8IUycMavggytB5KHhZmyRzWfVwNGTPXP8LQeiJzWPcC+mu4bwfxGvOjzGFhouRhjRpajKtaycPCLPnD6h9ajKsG+cMqfW0RUxuLsIagsCouYbUNLWJq5hJWGfSqEA8ZhXX3JDJi6mH32PH1rximEwtqjs9FvgkdwDGsWiyFDVgKIUFYn/EBrAaEBQnCeoShVYuwIEFYTzG0qhAWJAirAkPrOcKCBGHVYWg9ZHpFv05vbf2w3WO/BbTZLtgi+8cVu4eudxDeaWIt8lGquqpc7yC8U1jrYCn8aJuw3q7w8XFmXH/mOtceOLT4CM1D+70qfPij5eXbXHtMrP4raQ8ZM9X/zvc7CNvYbGJV/WhfQ2vm9DrPr19mNghrkdOaRQ5jFxuE9dLwo11iaFlaPaz+K70MaYtxVWv1sLCppcMadWGqzqHFuGqwdFjY17rPxeHX0au9C+aL6HJ+i2yoi6wbVpm+hfztrww8nkU21HVYCiGx+pNgkS3ksUPL4dbUe+wVZrVLJQ1WXwoHvmM+5J7QA2+d0nMY61s9rFEWuR3mRmtZpw3CWuRpymFU2SCsfovcDtNnXJVdwlpk9UlwGGG2fFVY+ypdYfin6ZPZ6aFZ5N3qfQ8j0h5LIbazdPXfLbJxO3cbe4vb3K17ZMuau429RVWFpRAihFWnbU6M2hHaZVwVwoIIYVWYu4290bgqhBWpp60tYrojrKcW+dEuchgfEVaotqG1S0x3hPXIIlvIGxVGWNM8LGyjmO62POhgi2wh71UYEwsSOz0JptDNiUU21EUICxIshZAgLEgQFiQICxKEBQnCggRhQYKwIEFYkCAsSBAWJAgLEoQFCcKCBGFBgrAgQViQICxIEBYkCAsShAUJwoLEP+TO9GMQZfYzAAAAAElFTkSuQmCC\" alt=\"Mol\"/>  CC(=C(C(=O)c1ccc(OCCN2CCCC2)cc1)c1ccccc1)c1ccccc1        0     0  NA   NA\n",
       "1  CHEMBL1412186  <img src=\"data:image/png;base64,iVBORw0KGgoAAAANSUhEUgAAAMgAAADICAIAAAAiOjnJAAAFT0lEQVR4nO3d3XbbIBBFYejK+7+yeqFY0Z9lEHPEmNnfVVfTuG68CxJGcp6mKQHW/vV+AhgTYUGCsCBBWJAgLEgQFiQICxKEBQnCggRhQYKwIEFYkCAsSBAWJAgLEoQFCcKCBGFBgrAgQViQICxIEBYkfno/AUdyzrXfwsVz7xDWr5zzjUrufVcETIWQ4D9cStuBp3xCnL+FQesUU+EelZhgKmwdcqZpunHUPzzCgkT0sEyOkBi0jkKHZXjcTVs7ocOCTtywzJcJGLTW4oYFqaBhiVY1GbQWQcOCWsSw7r2BU/KwiUHrJWJY69feqoMlVt46nEUMCw8IGpbtoMVwdRQ0LEPEdCpuWOZHWhS2FjcsE8T0TuiwDActCtsJHVZq64lj9gvRw1qrioyYrhEWk6AEYW0URkZMH/ED+sUFq7YYsSDBf7g/3LvBEBesblSFwvaYC0yFv24cLbH16gJhQYKwmjBovUNYKbWtGnD0foqwIEFYzaYpMRseEBar5xKEBQnCssCAdxA9LOZBkehhQYSwIBE6LOZBnbi7G4zfilkejVJTSjHDWm4Ls/t1yyP+9bT+dWCBwnqNKZvpj+u3REKENSf1KmfafilP07RsUqjLi8HpvcHD2ia1+9KmpLqh6+JxkVKKuec953TxD//c1ulAxcH71lBhfTyGLhxorqZFpr8yo02F7173qrnrdFq0OX8MY7Sw5s1Rx1f/Rg/rI3pOG2uNFpYtFiNuG/AtHasdnVwl0WLAsBJnZg4MFdZ6rKKtvoYKC34QFiQICxKEBYnxwrJZI2DtqtF4YRmjsHt6hsUK5MB6hmV+D6D1Hf0NHxY3dJ4K57bMO+C2Vd31P8Za7wxusXsE2uqrf1izxs+02W1dXz2m0fNDJV+nPLWb6U7//O43G7enc1Z4j8efWslr+THB3Xa/ezuK2TV6m8ew0mVb5S92y/b03UWtPn9Knvn9kR0DujF+1M6D8wU8x7+FoauW37Bm82jR+LqWDF0lCXKFTjnvYSX9TFQ1qtFWoS8Iyxuugi7hZR3ri0wTd+D+LFZY6xoay2DEuhYrrNTcEwqFC4tZ7BnhwrJ1nFupdhYxLNtBi5JORQwrmR56HzPNmdqC3RRk3ZPutI4TxhR2xLLFCcERYRngfZ4jwmpynFspbEZYkCCsVsyDpwgLEoTVjhPCE4QFCcKCBGFBgrAgQViQIKxW3H3kFGEZEN2M6asRlg2rmzENg7As0daCsIwxLc4Iyx7TYiIsneBtEZZQ5GmRsLTCTouE9YSAbREWJAgLEoQFCcJ6QsD7LhMWJAgLEoQFCcKCBGFBgrAgQViQICy5gItYibAgQliQICxIEJZcwM1YibCeEXCPMmE95LVH2eChviJQwnpU4x3h52HvK+bWiEss3d34jNb5U9AbP3r9SYTVTeHtlq8rdLv66vRpIRUPbD7b8vickCpvH+9wWiSscbgaujgr7M/qI9BdnS0SlgtWPfhZiSUsFww/8dDJ3SIIa0zd2yIsLwb7mFbCcsTNKZ0BwupvPVYN0xZhQYKwIEFYw+o7qRIWJAjLCeuVht6fgU5YkCAsSBBWf5LtLr0XxAgLEoQFCcLqz88mKkOE5YKTTVSGHO2SRrK6LMLBe9qE5VHTeeJ6abTfMilToUfV02LO3nYJ/vR+Aji3tPVh6Lpxuf4jCMuvOanTaTHnPL3+0NNPqwzHWF9gPXRVDGOJg3cUcHgd/QXCggRnhZAgLEgQFiQICxKEBQnCggRhQYKwIEFYkCAsSBAWJAgLEoQFCcKCBGFBgrAgQViQICxIEBYkCAsShAUJwoLEf0pVoW8YpqM9AAAAAElFTkSuQmCC\" alt=\"Mol\"/>                CCc1nc(NCCCN2CCOCC2)c2oc3ccccc3c2n1        0     0  NA   NA"
      ]
     },
     "execution_count": 4,
     "metadata": {},
     "output_type": "execute_result"
    }
   ],
   "source": [
    "amide_test.head(2)"
   ]
  },
  {
   "cell_type": "code",
   "execution_count": 5,
   "id": "fb52df6f",
   "metadata": {},
   "outputs": [
    {
     "data": {
      "text/plain": [
       "(False, False)"
      ]
     },
     "execution_count": 5,
     "metadata": {},
     "output_type": "execute_result"
    }
   ],
   "source": [
    "amide_train['class'].data == amide_train['activity'].data , amide_test['class'].data == amide_test['activity'].data"
   ]
  },
  {
   "cell_type": "raw",
   "id": "30954522",
   "metadata": {},
   "source": [
    "### Classes column != activity"
   ]
  },
  {
   "cell_type": "code",
   "execution_count": 6,
   "id": "c080bf3a",
   "metadata": {},
   "outputs": [],
   "source": [
    "def unique_atom_list(df):\n",
    "    \n",
    "    atom_list = []\n",
    "    \n",
    "    for i in range(len(df)):\n",
    "        for atom in df.iloc[i]['Molecule'].GetAtoms():\n",
    "            n = atom.GetAtomicNum()\n",
    "            if n not in atom_list:\n",
    "                atom_list.append(n)\n",
    "                \n",
    "    return sorted(atom_list)"
   ]
  },
  {
   "cell_type": "code",
   "execution_count": 7,
   "id": "3a20d25a",
   "metadata": {},
   "outputs": [
    {
     "name": "stdout",
     "output_type": "stream",
     "text": [
      "Unique atoms in train =[5, 6, 7, 8, 9, 14, 15, 16, 17, 33, 34, 35, 53]\n",
      "Unique atoms in test = [5, 6, 7, 8, 9, 14, 15, 16, 17, 34, 35, 53]\n"
     ]
    }
   ],
   "source": [
    "atom_list_test, atom_list_train = unique_atom_list(amide_test), unique_atom_list(amide_train)\n",
    "\n",
    "print('Unique atoms in train ={}'.format(atom_list_train))\n",
    "print('Unique atoms in test = {}'.format(atom_list_test))"
   ]
  },
  {
   "cell_type": "markdown",
   "id": "315b0cd7",
   "metadata": {},
   "source": [
    "Atom 33 not in the test set, all atoms in test are in train"
   ]
  },
  {
   "cell_type": "code",
   "execution_count": 8,
   "id": "cc217d4e",
   "metadata": {},
   "outputs": [],
   "source": [
    "atom_dict = {x:i for i,x in enumerate(atom_list_train)}"
   ]
  },
  {
   "cell_type": "code",
   "execution_count": 9,
   "id": "bc74c8c4",
   "metadata": {},
   "outputs": [],
   "source": [
    "def get_node_type(mol,encode_dict):\n",
    "    '''Mol --> one hot atom type matrix'''\n",
    "    nodes = []\n",
    "    \n",
    "    for atom in mol.GetAtoms():\n",
    "        x = torch.zeros(len(encode_dict))\n",
    "        x[encode_dict[atom.GetAtomicNum()]] = 1\n",
    "        nodes.append(x)\n",
    "        \n",
    "    return torch.vstack(nodes).type(torch.LongTensor)\n",
    "\n",
    "\n",
    "def get_edge(mol):\n",
    "    \n",
    "    '''Mol ---> adjecency and bond feature matrix'''\n",
    "    \n",
    "    edge_dict = {Chem.rdchem.BondType.SINGLE:0,\\\n",
    "             Chem.rdchem.BondType.DOUBLE:1,\\\n",
    "             Chem.rdchem.BondType.TRIPLE:2,\\\n",
    "             Chem.rdchem.BondType.AROMATIC:3}\n",
    "    \n",
    "    row, col = [], []\n",
    "    bonds    = []\n",
    "    \n",
    "    for bond in mol.GetBonds():\n",
    "        \n",
    "        '''Compute adjecency matrix in COO format'''\n",
    "        start, end = bond.GetBeginAtomIdx(), bond.GetEndAtomIdx()\n",
    "        row += [start, end]\n",
    "        col += [end, start]\n",
    "        \n",
    "        '''Find bond type'''\n",
    "        x = torch.zeros(4)\n",
    "        x[edge_dict[bond.GetBondType()]] = 1\n",
    "        bonds.append(x)\n",
    "        \n",
    "    return torch.tensor([row, col], dtype=torch.long), torch.vstack(bonds).type(torch.LongTensor)\n",
    "\n",
    "\n",
    "\n",
    "\n",
    "def other_atoms_features(mol):\n",
    "    return "
   ]
  },
  {
   "cell_type": "markdown",
   "id": "53886775",
   "metadata": {},
   "source": [
    "###  Distributions"
   ]
  },
  {
   "cell_type": "code",
   "execution_count": 10,
   "id": "db53307b",
   "metadata": {},
   "outputs": [
    {
     "name": "stderr",
     "output_type": "stream",
     "text": [
      "c:\\users\\zcemg08\\miniconda3\\envs\\env7\\lib\\site-packages\\ipykernel_launcher.py:3: UserWarning: Matplotlib is currently using module://ipykernel.pylab.backend_inline, which is a non-GUI backend, so cannot show the figure.\n",
      "  This is separate from the ipykernel package so we can avoid doing imports until\n",
      "c:\\users\\zcemg08\\miniconda3\\envs\\env7\\lib\\site-packages\\ipykernel_launcher.py:7: UserWarning: Matplotlib is currently using module://ipykernel.pylab.backend_inline, which is a non-GUI backend, so cannot show the figure.\n",
      "  import sys\n"
     ]
    },
    {
     "data": {
      "image/png": "[encoded data removed]",
      "text/plain": [
       "<Figure size 432x288 with 1 Axes>"
      ]
     },
     "metadata": {
      "needs_background": "light"
     },
     "output_type": "display_data"
    },
    {
     "data": {
      "image/png": "[encoded data removed]",
      "text/plain": [
       "<Figure size 432x288 with 1 Axes>"
      ]
     },
     "metadata": {
      "needs_background": "light"
     },
     "output_type": "display_data"
    }
   ],
   "source": [
    "f = plt.figure(1)\n",
    "amide_train['class'].hist()\n",
    "f.show()\n",
    "\n",
    "g = plt.figure(2)\n",
    "amide_test['class'].hist()\n",
    "g.show()"
   ]
  },
  {
   "cell_type": "code",
   "execution_count": 11,
   "id": "d65e6768",
   "metadata": {},
   "outputs": [
    {
     "name": "stderr",
     "output_type": "stream",
     "text": [
      "c:\\users\\zcemg08\\miniconda3\\envs\\env7\\lib\\site-packages\\ipykernel_launcher.py:3: UserWarning: Matplotlib is currently using module://ipykernel.pylab.backend_inline, which is a non-GUI backend, so cannot show the figure.\n",
      "  This is separate from the ipykernel package so we can avoid doing imports until\n",
      "c:\\users\\zcemg08\\miniconda3\\envs\\env7\\lib\\site-packages\\ipykernel_launcher.py:7: UserWarning: Matplotlib is currently using module://ipykernel.pylab.backend_inline, which is a non-GUI backend, so cannot show the figure.\n",
      "  import sys\n"
     ]
    },
    {
     "data": {
      "image/png": "[encoded data removed]",
      "text/plain": [
       "<Figure size 432x288 with 1 Axes>"
      ]
     },
     "metadata": {
      "needs_background": "light"
     },
     "output_type": "display_data"
    },
    {
     "data": {
      "image/png": "[encoded data removed]",
      "text/plain": [
       "<Figure size 432x288 with 1 Axes>"
      ]
     },
     "metadata": {
      "needs_background": "light"
     },
     "output_type": "display_data"
    }
   ],
   "source": [
    "f = plt.figure(1)\n",
    "amide_train['activity'].hist()\n",
    "f.show()\n",
    "\n",
    "g = plt.figure(2)\n",
    "amide_test['activity'].hist()\n",
    "g.show()"
   ]
  },
  {
   "cell_type": "code",
   "execution_count": 12,
   "id": "76b1af70",
   "metadata": {},
   "outputs": [],
   "source": [
    "df = amide_test\n",
    "\n",
    "data_folder = r'C:\\Users\\zcemg08\\PycharmProjects\\graph_nn\\processed_data'\n",
    "file        =  'amide2.sdf'\n",
    "data_dir    =  os.path.join(data_folder,file[:-3]+'dataset')"
   ]
  },
  {
   "cell_type": "code",
   "execution_count": 13,
   "id": "4b13957e",
   "metadata": {},
   "outputs": [
    {
     "data": {
      "text/plain": [
       "'C:\\\\Users\\\\zcemg08\\\\PycharmProjects\\\\graph_nn\\\\processed_data\\\\amide2.dataset'"
      ]
     },
     "execution_count": 13,
     "metadata": {},
     "output_type": "execute_result"
    }
   ],
   "source": [
    "data_dir"
   ]
  },
  {
   "cell_type": "code",
   "execution_count": 14,
   "id": "ca17491d",
   "metadata": {},
   "outputs": [
    {
     "name": "stderr",
     "output_type": "stream",
     "text": [
      "c:\\users\\zcemg08\\miniconda3\\envs\\env7\\lib\\site-packages\\torch\\cuda\\__init__.py:52: UserWarning: CUDA initialization: Found no NVIDIA driver on your system. Please check that you have an NVIDIA GPU and installed a driver from http://www.nvidia.com/Download/index.aspx (Triggered internally at  ..\\c10\\cuda\\CUDAFunctions.cpp:100.)\n",
      "  return torch._C._cuda_getDeviceCount() > 0\n"
     ]
    }
   ],
   "source": [
    "import torch\n",
    "from torch_geometric.data import InMemoryDataset\n",
    "from tqdm import tqdm\n",
    "from torch_geometric.data import Data\n",
    "\n",
    "class data_mol(InMemoryDataset):\n",
    "    def __init__(self, root, transform=None, pre_transform=None):\n",
    "        super(data_mol, self).__init__(root, transform, pre_transform)\n",
    "        self.data, self.slices = torch.load(self.processed_paths[0])\n",
    "\n",
    "    @property\n",
    "    def raw_file_names(self):\n",
    "        return []\n",
    "    @property\n",
    "    def processed_file_names(self):\n",
    "        return [data_dir]\n",
    "\n",
    "    def download(self):\n",
    "        pass\n",
    "    \n",
    "    def process(self):\n",
    "        \n",
    "        data_list = []\n",
    "\n",
    "        for _, row in tqdm(df.iterrows()):\n",
    "            \n",
    "            node_features             = get_node_type(row['Molecule'],atom_dict)\n",
    "           \n",
    "            edge_index, bond_features = get_edge(row['Molecule'])\n",
    "\n",
    "            target                    = torch.LongTensor([int(row['activity'])])\n",
    "\n",
    "            data = Data(x=node_features, edge_index=edge_index, \\\n",
    "                         edge_attr=bond_features, y=target)\n",
    "            \n",
    "            data_list.append(data)\n",
    "        \n",
    "        data, slices = self.collate(data_list)\n",
    "        torch.save((data, slices), self.processed_paths[0])"
   ]
  },
  {
   "cell_type": "code",
   "execution_count": 15,
   "id": "4a07e6eb",
   "metadata": {},
   "outputs": [],
   "source": [
    "dataset = data_mol('../')"
   ]
  },
  {
   "cell_type": "code",
   "execution_count": 16,
   "id": "609fd893",
   "metadata": {},
   "outputs": [
    {
     "data": {
      "text/plain": [
       "data_mol(3000)"
      ]
     },
     "execution_count": 16,
     "metadata": {},
     "output_type": "execute_result"
    }
   ],
   "source": [
    "dataset"
   ]
  },
  {
   "cell_type": "code",
   "execution_count": null,
   "id": "61e4f37e",
   "metadata": {},
   "outputs": [],
   "source": []
  }
 ],
 "metadata": {
  "kernelspec": {
   "display_name": "Python 3",
   "language": "python",
   "name": "python3"
  },
  "language_info": {
   "codemirror_mode": {
    "name": "ipython",
    "version": 3
   },
   "file_extension": ".py",
   "mimetype": "text/x-python",
   "name": "python",
   "nbconvert_exporter": "python",
   "pygments_lexer": "ipython3",
   "version": "3.6.12"
  }
 },
 "nbformat": 4,
 "nbformat_minor": 5
}
